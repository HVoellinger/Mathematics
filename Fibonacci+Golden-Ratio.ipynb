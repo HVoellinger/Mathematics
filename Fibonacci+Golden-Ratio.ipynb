{
 "cells": [
  {
   "cell_type": "markdown",
   "metadata": {},
   "source": [
    "# Python Progarm to Calcualte Fibonacci Numbers' & \"Golden Ratio'\n",
    "\n",
    "Powered by: Dr. Hermann Völlinger, DHBW Stuttgart(Germany); August 2020\n",
    "    \n",
    "See Wikipedia: https://en.wikipedia.org/wiki/Fibonacci_number:\n",
    " \n",
    "## The Fibonacci Numbers \n",
    "\n",
    "Fibonacci numbers are named after Italian mathematician Leonardo of Pisa, later known as Fibonacci. In his 1202 book \n",
    "Liber Abaci, Fibonacci introduced the sequence to Western European mathematics,[5] although the sequence had been described \n",
    "earlier in Indian mathematics,[6][7][8] as early as 200 BC in work by Pingala on enumerating possible patterns \n",
    "of Sanskrit poetry formed from syllables of two lengths.\n",
    "\n",
    "Fibonacci numbers appear unexpectedly often in mathematics, so much so that there is an entire journal dedicated to their \n",
    "study, the Fibonacci Quarterly. Applications of Fibonacci numbers include computer algorithms such as the Fibonacci search\n",
    "technique and the Fibonacci heap data structure, and graphs called Fibonacci cubes used for interconnecting parallel and \n",
    "distributed systems.\n",
    "They also appear in biological settings, such as branching in trees, the arrangement of leaves on a stem, the fruit sprouts \n",
    "of a pineapple, the flowering of an artichoke, an uncurling fern, and the arrangement of a pine cone's bracts.\n",
    "\n",
    "## 'Fibonacci Spiral'\n",
    "    \n",
    "An approximation of the golden spiral created by drawing circular arcs connecting the opposite corners of squares in \n",
    "the Fibonacci tiling; (see preceding image) Fibonacci numbers are strongly related to the golden ratio: Binet's \n",
    "formula expresses the nth Fibonacci number in terms of n and the golden ratio, and implies that the ratio of two \n",
    "consecutive Fibonacci numbers tends to the golden ratio as n increases.\n",
    "\n",
    "A tiling with squares whose side lengths are successive Fibonacci numbers: 1, 1, 2, 3, 5, 8, 13, 21, 34, 55, 89, 144...."
   ]
  },
  {
   "cell_type": "code",
   "execution_count": 1,
   "metadata": {},
   "outputs": [
    {
     "name": "stdout",
     "output_type": "stream",
     "text": [
      "'Fibonacci Spiral' = Squares whose side lengths are\n",
      "successive Fibonacci numbers:  1, 1, 2, 3, 5, 8, 13, 21...\n",
      "****See the 'Fibonacci Spiral (FS)*****:\n"
     ]
    },
    {
     "data": {
      "image/png": "[encoded data removed]",
      "text/plain": [
       "<IPython.core.display.Image object>"
      ]
     },
     "execution_count": 1,
     "metadata": {},
     "output_type": "execute_result"
    }
   ],
   "source": [
    "print (\"'Fibonacci Spiral' = Squares whose side lengths are\") \n",
    "print (\"successive Fibonacci numbers:  1, 1, 2, 3, 5, 8, 13, 21...\")\n",
    "\n",
    "print (\"****See the 'Fibonacci Spiral (FS)*****:\") \n",
    "\n",
    "from IPython.display import Image\n",
    "\n",
    "Image('fibonacci.png')\n"
   ]
  },
  {
   "cell_type": "code",
   "execution_count": 2,
   "metadata": {},
   "outputs": [
    {
     "name": "stdout",
     "output_type": "stream",
     "text": [
      "*********************************************************************\n",
      "****The program calculates the Fibonacci Numbers & Golden Ratio******\n",
      "*********************************************************************\n",
      " ********** First Part: 'Fibonacci Numbers'**************************\n",
      "*********************************************************************\n"
     ]
    }
   ],
   "source": [
    "# First Part: 'Fibonacci Numbers'\n",
    "print (\"*********************************************************************\")\n",
    "print (\"****The program calculates the Fibonacci Numbers & Golden Ratio******\")\n",
    "print (\"*********************************************************************\")\n",
    "print (\" ********** First Part: 'Fibonacci Numbers'**************************\")\n",
    "print (\"*********************************************************************\")\n"
   ]
  },
  {
   "cell_type": "code",
   "execution_count": 3,
   "metadata": {},
   "outputs": [],
   "source": [
    "# Start calculation of Fibo\n",
    "\n",
    "def recur_fibo(n):  \n",
    "   if n <= 1:  \n",
    "       return n  \n",
    "   else:  \n",
    "       return(recur_fibo(n-1) + recur_fibo(n-2))\n",
    "\n",
    "# End calulation of Fibo"
   ]
  },
  {
   "cell_type": "code",
   "execution_count": 4,
   "metadata": {},
   "outputs": [
    {
     "name": "stdout",
     "output_type": "stream",
     "text": [
      "Hello Hermann. How many terms you want? 10\n",
      "The Fibonacci numbers until 10 are:\n",
      "0\n",
      "1\n",
      "1\n",
      "2\n",
      "3\n",
      "5\n",
      "8\n",
      "13\n",
      "21\n",
      "34\n",
      "****end of list of Fibo Numbers****\n"
     ]
    }
   ],
   "source": [
    "# Take the input from the user + print the Fibo numbers\n",
    "\n",
    "nterms = int(input(\"Hello Hermann. How many terms you want? \"))\n",
    "\n",
    "# Check if the number of terms is valid  \n",
    "\n",
    "if nterms <= 0:  \n",
    "   print(\"Plese enter a positive integer\")  \n",
    "else:  \n",
    "   print(\"The Fibonacci numbers until\",nterms, \"are:\")  \n",
    "   for i in range(nterms):  \n",
    "       print(recur_fibo(i))\n",
    "    \n",
    "# End calculation and print of Fibonacci numbers\n",
    "  \n",
    "print (\"****end of list of Fibo Numbers****\")\n"
   ]
  },
  {
   "cell_type": "markdown",
   "metadata": {},
   "source": [
    "## End of First Part\n",
    "\n",
    "\n",
    "\n",
    "# Second Part: 'Golden Ration'"
   ]
  },
  {
   "cell_type": "code",
   "execution_count": 5,
   "metadata": {},
   "outputs": [
    {
     "name": "stdout",
     "output_type": "stream",
     "text": [
      "Hello Hermann. Do you want to see the the 'Golden Ratio' numbers until this term? \n",
      "Then type '1'1\n",
      "The program calculates 'Golden Ratio'= (Fibo(i+1)/Fibo(i))\n",
      "Please check the values for: 'Golden-Ratio'~1.61803398875\n",
      "1.0\n",
      "2.0\n",
      "1.5\n",
      "1.6666666666666667\n",
      "1.6\n",
      "1.625\n",
      "1.6153846153846154\n",
      "1.619047619047619\n",
      "1.6176470588235294\n",
      "1.6181818181818182\n"
     ]
    }
   ],
   "source": [
    "# second part: 'Golden Ratio'\n",
    "print(\"Hello Hermann. Do you want to see the the 'Golden Ratio' numbers until this term? \")\n",
    "go = int(input(\"Then type '1'\"))\n",
    "if go == 1:            \n",
    "   print (\"The program calculates 'Golden Ratio'= (Fibo(i+1)/Fibo(i))\")\n",
    "   # Start printing 'Golden Ratio'\n",
    "   print (\"Please check the values for: 'Golden-Ratio'~1.61803398875\")\n",
    "   for i in range(nterms):  \n",
    "       print(recur_fibo(i+2)/recur_fibo(i+1))\n",
    "else:\n",
    "   print (\"no 'Golden Ratio' numbers are calculated\")\n",
    "\n",
    "## End of Second Part\n"
   ]
  },
  {
   "cell_type": "code",
   "execution_count": 6,
   "metadata": {},
   "outputs": [
    {
     "name": "stdout",
     "output_type": "stream",
     "text": [
      "date 12.08.2020 19:07:18\n",
      "end\n"
     ]
    }
   ],
   "source": [
    "# print current date and time\n",
    "import time\n",
    "print(\"date\",time.strftime(\"%d.%m.%Y %H:%M:%S\"))\n",
    "print (\"end\")"
   ]
  }
 ],
 "metadata": {
  "kernelspec": {
   "display_name": "Python 3",
   "language": "python",
   "name": "python3"
  },
  "language_info": {
   "codemirror_mode": {
    "name": "ipython",
    "version": 3
   },
   "file_extension": ".py",
   "mimetype": "text/x-python",
   "name": "python",
   "nbconvert_exporter": "python",
   "pygments_lexer": "ipython3",
   "version": "3.8.2"
  }
 },
 "nbformat": 4,
 "nbformat_minor": 4
}
