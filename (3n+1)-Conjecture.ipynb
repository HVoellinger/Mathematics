{
 "cells": [
  {
   "cell_type": "markdown",
   "metadata": {},
   "source": [
    "# # Python Progarm to check the (3n+1) Conjecture\n",
    " \n",
    " Powered by: Dr. Hermann Völlinger, DHBW Stuttgart(Germany); August 2020\n",
    "     \n",
    " See Wikipedia: https://en.wikipedia.org/wiki/Collatz_conjecture\n",
    "\n",
    "\n",
    "The Collatz conjecture is a conjecture in mathematics that concerns a sequence defined as follows: start with any \n",
    "positive integer n. Then each term is obtained from the previous term as follows:if the previous term is even, \n",
    "the next term is one half of the previous term. If the previous term is odd, the next term is 3 times the previous term plus 1.\n",
    "\n",
    "The conjecture is that no matter what value of n, the sequence will always reach 1.\n",
    "\n",
    "The conjecture is named after Lothar Collatz, who introduced the idea in 1937, two years after receiving his doctorate.[1]\n",
    "It is also known as the 3n + 1 problem, the 3n + 1 conjecture, the Ulam conjecture (after Stanisław Ulam), Kakutani's problem \n",
    "(after Shizuo Kakutani), the Thwaites conjecture (after Sir Bryan Thwaites), Hasse's algorithm (after Helmut Hasse), \n",
    "or the Syracuse problem.[2][4] \n",
    "The sequence of numbers involved is sometimes referred to as the hailstone sequence or hailstone numbers (because the values \n",
    "are usually subject to multiple descents and ascents like hailstones in a cloud),[5][6] or as wondrous numbers.[7]\n",
    "\n",
    "Paul Erdős said about the Collatz conjecture: \"Mathematics may not be ready for such problems.\"[8] He also offered US$500 \n",
    "for its solution.[9] Jeffrey Lagarias in 2010 claimed that based only on known information about this problem, \n",
    "\"this is an extraordinarily difficult problem, completely out of reach of present day mathematics.\"[10]\n",
    "\n",
    "  "
   ]
  },
  {
   "cell_type": "markdown",
   "metadata": {},
   "source": [
    "# Problem Solution\n",
    "\n",
    "1. Create a function collatz that takes an integer n as argument.\n",
    "2. Create a loop that runs as long as n is greater than 1.\n",
    "3. In each iteration of the loop, update the value of n.\n",
    "4. If n is even, set n to n/2 and if n is odd, set it to 3n + 1.\n",
    "5. Print the value of n in each iteration.\n"
   ]
  },
  {
   "cell_type": "markdown",
   "metadata": {},
   "source": [
    "# Program Explanation\n",
    "\n",
    "1. The user is asked to input n.\n",
    "2. The sequence is printed by calling collatz on n.\n"
   ]
  },
  {
   "cell_type": "code",
   "execution_count": 2,
   "metadata": {},
   "outputs": [
    {
     "name": "stdout",
     "output_type": "stream",
     "text": [
      "Enter n: 5555\n",
      "Sequence: 5555 16666 8333 25000 12500 6250 3125 9376 4688 2344 1172 586 293 880 440 220 110 55 166 83 250 125 376 188 94 47 142 71 214 107 322 161 484 242 121 364 182 91 274 137 412 206 103 310 155 466 233 700 350 175 526 263 790 395 1186 593 1780 890 445 1336 668 334 167 502 251 754 377 1132 566 283 850 425 1276 638 319 958 479 1438 719 2158 1079 3238 1619 4858 2429 7288 3644 1822 911 2734 1367 4102 2051 6154 3077 9232 4616 2308 1154 577 1732 866 433 1300 650 325 976 488 244 122 61 184 92 46 23 70 35 106 53 160 80 40 20 10 5 16 8 4 2 1"
     ]
    }
   ],
   "source": [
    "# Program/Source Code\n",
    "# Here is the source code of a Python program to test Collatz conjecture for a given number. \n",
    "#'The program output is shown below.\n",
    "\n",
    "def collatz(n):\n",
    "    while n > 1:\n",
    "        print(n, end=' ')\n",
    "        if (n % 2):\n",
    "            # n is odd\n",
    "            n = 3*n + 1\n",
    "        else:\n",
    "            # n is even\n",
    "            n = n//2\n",
    "    print(1, end='')\n",
    " \n",
    " \n",
    "n = int(input('Enter n: '))\n",
    "print('Sequence: ', end='')\n",
    "collatz(n)\n"
   ]
  },
  {
   "cell_type": "code",
   "execution_count": 4,
   "metadata": {},
   "outputs": [
    {
     "name": "stdout",
     "output_type": "stream",
     "text": [
      "date 12.08.2020 22:29:31\n",
      "end\n"
     ]
    }
   ],
   "source": [
    "# print current date and time\n",
    "\n",
    "import time\n",
    "print(\"date\",time.strftime(\"%d.%m.%Y %H:%M:%S\"))\n",
    "print (\"end\")"
   ]
  }
 ],
 "metadata": {
  "kernelspec": {
   "display_name": "Python 3",
   "language": "python",
   "name": "python3"
  },
  "language_info": {
   "codemirror_mode": {
    "name": "ipython",
    "version": 3
   },
   "file_extension": ".py",
   "mimetype": "text/x-python",
   "name": "python",
   "nbconvert_exporter": "python",
   "pygments_lexer": "ipython3",
   "version": "3.8.2"
  }
 },
 "nbformat": 4,
 "nbformat_minor": 4
}
